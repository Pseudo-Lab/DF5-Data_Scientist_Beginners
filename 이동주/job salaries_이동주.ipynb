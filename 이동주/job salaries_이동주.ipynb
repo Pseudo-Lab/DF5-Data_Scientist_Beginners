{
 "cells": [
  {
   "cell_type": "markdown",
   "id": "17e7304d",
   "metadata": {},
   "source": [
    "#### Column information\n",
    "- work_year; 급여가 지급된 년도\n",
    "- experience_level: 직급 (EN: 신입, JM: 주니어-미드, SE: 시니어, EX: 임원진)\n",
    "- employment_type: 업무 유형(PT: 파트타임, FT: 풀타임, CT: 계약직, FL: 프리랜서)\n",
    "- job_title: 업무 이름\n",
    "- salary: 급여\n",
    "- salary_currency: 급여의 통화(EUR, USD, GBP etc)\n",
    "- salary_in_usd: USD로 계산한 급여\n",
    "- employee_residence: 거주 국가\n",
    "- remote_ratio:원격 직무량(0: 20% 이하, 50: 부분적으로 있음, 100: full 원격)\n",
    "- company_location: 회사 위치(=국가)\n",
    "- company_size: 평균 직원 수"
   ]
  },
  {
   "cell_type": "code",
   "execution_count": 5,
   "id": "7a4183d0",
   "metadata": {},
   "outputs": [],
   "source": [
    "import pandas as pd\n",
    "salary=pd.read_csv('ds_salaries.csv', index_col='Unnamed: 0')"
   ]
  },
  {
   "cell_type": "code",
   "execution_count": 6,
   "id": "163a6730",
   "metadata": {},
   "outputs": [
    {
     "data": {
      "text/html": [
       "<div>\n",
       "<style scoped>\n",
       "    .dataframe tbody tr th:only-of-type {\n",
       "        vertical-align: middle;\n",
       "    }\n",
       "\n",
       "    .dataframe tbody tr th {\n",
       "        vertical-align: top;\n",
       "    }\n",
       "\n",
       "    .dataframe thead th {\n",
       "        text-align: right;\n",
       "    }\n",
       "</style>\n",
       "<table border=\"1\" class=\"dataframe\">\n",
       "  <thead>\n",
       "    <tr style=\"text-align: right;\">\n",
       "      <th></th>\n",
       "      <th>work_year</th>\n",
       "      <th>experience_level</th>\n",
       "      <th>employment_type</th>\n",
       "      <th>job_title</th>\n",
       "      <th>salary</th>\n",
       "      <th>salary_currency</th>\n",
       "      <th>salary_in_usd</th>\n",
       "      <th>employee_residence</th>\n",
       "      <th>remote_ratio</th>\n",
       "      <th>company_location</th>\n",
       "      <th>company_size</th>\n",
       "    </tr>\n",
       "  </thead>\n",
       "  <tbody>\n",
       "    <tr>\n",
       "      <th>0</th>\n",
       "      <td>2020</td>\n",
       "      <td>MI</td>\n",
       "      <td>FT</td>\n",
       "      <td>Data Scientist</td>\n",
       "      <td>70000</td>\n",
       "      <td>EUR</td>\n",
       "      <td>79833</td>\n",
       "      <td>DE</td>\n",
       "      <td>0</td>\n",
       "      <td>DE</td>\n",
       "      <td>L</td>\n",
       "    </tr>\n",
       "    <tr>\n",
       "      <th>1</th>\n",
       "      <td>2020</td>\n",
       "      <td>SE</td>\n",
       "      <td>FT</td>\n",
       "      <td>Machine Learning Scientist</td>\n",
       "      <td>260000</td>\n",
       "      <td>USD</td>\n",
       "      <td>260000</td>\n",
       "      <td>JP</td>\n",
       "      <td>0</td>\n",
       "      <td>JP</td>\n",
       "      <td>S</td>\n",
       "    </tr>\n",
       "    <tr>\n",
       "      <th>2</th>\n",
       "      <td>2020</td>\n",
       "      <td>SE</td>\n",
       "      <td>FT</td>\n",
       "      <td>Big Data Engineer</td>\n",
       "      <td>85000</td>\n",
       "      <td>GBP</td>\n",
       "      <td>109024</td>\n",
       "      <td>GB</td>\n",
       "      <td>50</td>\n",
       "      <td>GB</td>\n",
       "      <td>M</td>\n",
       "    </tr>\n",
       "    <tr>\n",
       "      <th>3</th>\n",
       "      <td>2020</td>\n",
       "      <td>MI</td>\n",
       "      <td>FT</td>\n",
       "      <td>Product Data Analyst</td>\n",
       "      <td>20000</td>\n",
       "      <td>USD</td>\n",
       "      <td>20000</td>\n",
       "      <td>HN</td>\n",
       "      <td>0</td>\n",
       "      <td>HN</td>\n",
       "      <td>S</td>\n",
       "    </tr>\n",
       "    <tr>\n",
       "      <th>4</th>\n",
       "      <td>2020</td>\n",
       "      <td>SE</td>\n",
       "      <td>FT</td>\n",
       "      <td>Machine Learning Engineer</td>\n",
       "      <td>150000</td>\n",
       "      <td>USD</td>\n",
       "      <td>150000</td>\n",
       "      <td>US</td>\n",
       "      <td>50</td>\n",
       "      <td>US</td>\n",
       "      <td>L</td>\n",
       "    </tr>\n",
       "    <tr>\n",
       "      <th>...</th>\n",
       "      <td>...</td>\n",
       "      <td>...</td>\n",
       "      <td>...</td>\n",
       "      <td>...</td>\n",
       "      <td>...</td>\n",
       "      <td>...</td>\n",
       "      <td>...</td>\n",
       "      <td>...</td>\n",
       "      <td>...</td>\n",
       "      <td>...</td>\n",
       "      <td>...</td>\n",
       "    </tr>\n",
       "    <tr>\n",
       "      <th>602</th>\n",
       "      <td>2022</td>\n",
       "      <td>SE</td>\n",
       "      <td>FT</td>\n",
       "      <td>Data Engineer</td>\n",
       "      <td>154000</td>\n",
       "      <td>USD</td>\n",
       "      <td>154000</td>\n",
       "      <td>US</td>\n",
       "      <td>100</td>\n",
       "      <td>US</td>\n",
       "      <td>M</td>\n",
       "    </tr>\n",
       "    <tr>\n",
       "      <th>603</th>\n",
       "      <td>2022</td>\n",
       "      <td>SE</td>\n",
       "      <td>FT</td>\n",
       "      <td>Data Engineer</td>\n",
       "      <td>126000</td>\n",
       "      <td>USD</td>\n",
       "      <td>126000</td>\n",
       "      <td>US</td>\n",
       "      <td>100</td>\n",
       "      <td>US</td>\n",
       "      <td>M</td>\n",
       "    </tr>\n",
       "    <tr>\n",
       "      <th>604</th>\n",
       "      <td>2022</td>\n",
       "      <td>SE</td>\n",
       "      <td>FT</td>\n",
       "      <td>Data Analyst</td>\n",
       "      <td>129000</td>\n",
       "      <td>USD</td>\n",
       "      <td>129000</td>\n",
       "      <td>US</td>\n",
       "      <td>0</td>\n",
       "      <td>US</td>\n",
       "      <td>M</td>\n",
       "    </tr>\n",
       "    <tr>\n",
       "      <th>605</th>\n",
       "      <td>2022</td>\n",
       "      <td>SE</td>\n",
       "      <td>FT</td>\n",
       "      <td>Data Analyst</td>\n",
       "      <td>150000</td>\n",
       "      <td>USD</td>\n",
       "      <td>150000</td>\n",
       "      <td>US</td>\n",
       "      <td>100</td>\n",
       "      <td>US</td>\n",
       "      <td>M</td>\n",
       "    </tr>\n",
       "    <tr>\n",
       "      <th>606</th>\n",
       "      <td>2022</td>\n",
       "      <td>MI</td>\n",
       "      <td>FT</td>\n",
       "      <td>AI Scientist</td>\n",
       "      <td>200000</td>\n",
       "      <td>USD</td>\n",
       "      <td>200000</td>\n",
       "      <td>IN</td>\n",
       "      <td>100</td>\n",
       "      <td>US</td>\n",
       "      <td>L</td>\n",
       "    </tr>\n",
       "  </tbody>\n",
       "</table>\n",
       "<p>607 rows × 11 columns</p>\n",
       "</div>"
      ],
      "text/plain": [
       "     work_year experience_level employment_type                   job_title  \\\n",
       "0         2020               MI              FT              Data Scientist   \n",
       "1         2020               SE              FT  Machine Learning Scientist   \n",
       "2         2020               SE              FT           Big Data Engineer   \n",
       "3         2020               MI              FT        Product Data Analyst   \n",
       "4         2020               SE              FT   Machine Learning Engineer   \n",
       "..         ...              ...             ...                         ...   \n",
       "602       2022               SE              FT               Data Engineer   \n",
       "603       2022               SE              FT               Data Engineer   \n",
       "604       2022               SE              FT                Data Analyst   \n",
       "605       2022               SE              FT                Data Analyst   \n",
       "606       2022               MI              FT                AI Scientist   \n",
       "\n",
       "     salary salary_currency  salary_in_usd employee_residence  remote_ratio  \\\n",
       "0     70000             EUR          79833                 DE             0   \n",
       "1    260000             USD         260000                 JP             0   \n",
       "2     85000             GBP         109024                 GB            50   \n",
       "3     20000             USD          20000                 HN             0   \n",
       "4    150000             USD         150000                 US            50   \n",
       "..      ...             ...            ...                ...           ...   \n",
       "602  154000             USD         154000                 US           100   \n",
       "603  126000             USD         126000                 US           100   \n",
       "604  129000             USD         129000                 US             0   \n",
       "605  150000             USD         150000                 US           100   \n",
       "606  200000             USD         200000                 IN           100   \n",
       "\n",
       "    company_location company_size  \n",
       "0                 DE            L  \n",
       "1                 JP            S  \n",
       "2                 GB            M  \n",
       "3                 HN            S  \n",
       "4                 US            L  \n",
       "..               ...          ...  \n",
       "602               US            M  \n",
       "603               US            M  \n",
       "604               US            M  \n",
       "605               US            M  \n",
       "606               US            L  \n",
       "\n",
       "[607 rows x 11 columns]"
      ]
     },
     "execution_count": 6,
     "metadata": {},
     "output_type": "execute_result"
    }
   ],
   "source": [
    "salary"
   ]
  },
  {
   "cell_type": "code",
   "execution_count": 8,
   "id": "6d6689c5",
   "metadata": {},
   "outputs": [
    {
     "name": "stdout",
     "output_type": "stream",
     "text": [
      "<class 'pandas.core.frame.DataFrame'>\n",
      "Int64Index: 607 entries, 0 to 606\n",
      "Data columns (total 11 columns):\n",
      " #   Column              Non-Null Count  Dtype \n",
      "---  ------              --------------  ----- \n",
      " 0   work_year           607 non-null    int64 \n",
      " 1   experience_level    607 non-null    object\n",
      " 2   employment_type     607 non-null    object\n",
      " 3   job_title           607 non-null    object\n",
      " 4   salary              607 non-null    int64 \n",
      " 5   salary_currency     607 non-null    object\n",
      " 6   salary_in_usd       607 non-null    int64 \n",
      " 7   employee_residence  607 non-null    object\n",
      " 8   remote_ratio        607 non-null    int64 \n",
      " 9   company_location    607 non-null    object\n",
      " 10  company_size        607 non-null    object\n",
      "dtypes: int64(4), object(7)\n",
      "memory usage: 56.9+ KB\n"
     ]
    }
   ],
   "source": [
    "salary.info()"
   ]
  },
  {
   "cell_type": "code",
   "execution_count": 10,
   "id": "10764609",
   "metadata": {},
   "outputs": [
    {
     "data": {
      "text/plain": [
       "Index(['work_year', 'experience_level', 'employment_type', 'job_title',\n",
       "       'salary', 'salary_currency', 'salary_in_usd', 'employee_residence',\n",
       "       'remote_ratio', 'company_location', 'company_size'],\n",
       "      dtype='object')"
      ]
     },
     "execution_count": 10,
     "metadata": {},
     "output_type": "execute_result"
    }
   ],
   "source": [
    "salary.keys()"
   ]
  },
  {
   "cell_type": "code",
   "execution_count": 13,
   "id": "d0297d4b",
   "metadata": {
    "scrolled": false
   },
   "outputs": [
    {
     "name": "stdout",
     "output_type": "stream",
     "text": [
      "work_year's values are [2020 2021 2022]'\n",
      "------------------------------\n",
      "experience_level's values are ['MI' 'SE' 'EN' 'EX']'\n",
      "------------------------------\n",
      "employment_type's values are ['FT' 'CT' 'PT' 'FL']'\n",
      "------------------------------\n",
      "job_title's values are ['Data Scientist' 'Machine Learning Scientist' 'Big Data Engineer'\n",
      " 'Product Data Analyst' 'Machine Learning Engineer' 'Data Analyst'\n",
      " 'Lead Data Scientist' 'Business Data Analyst' 'Lead Data Engineer'\n",
      " 'Lead Data Analyst' 'Data Engineer' 'Data Science Consultant'\n",
      " 'BI Data Analyst' 'Director of Data Science' 'Research Scientist'\n",
      " 'Machine Learning Manager' 'Data Engineering Manager'\n",
      " 'Machine Learning Infrastructure Engineer' 'ML Engineer' 'AI Scientist'\n",
      " 'Computer Vision Engineer' 'Principal Data Scientist'\n",
      " 'Data Science Manager' 'Head of Data' '3D Computer Vision Researcher'\n",
      " 'Data Analytics Engineer' 'Applied Data Scientist'\n",
      " 'Marketing Data Analyst' 'Cloud Data Engineer' 'Financial Data Analyst'\n",
      " 'Computer Vision Software Engineer' 'Director of Data Engineering'\n",
      " 'Data Science Engineer' 'Principal Data Engineer'\n",
      " 'Machine Learning Developer' 'Applied Machine Learning Scientist'\n",
      " 'Data Analytics Manager' 'Head of Data Science' 'Data Specialist'\n",
      " 'Data Architect' 'Finance Data Analyst' 'Principal Data Analyst'\n",
      " 'Big Data Architect' 'Staff Data Scientist' 'Analytics Engineer'\n",
      " 'ETL Developer' 'Head of Machine Learning' 'NLP Engineer'\n",
      " 'Lead Machine Learning Engineer' 'Data Analytics Lead']'\n",
      "------------------------------\n",
      "salary's values are [   70000   260000    85000    20000   150000    72000   190000 11000000\n",
      "   135000   125000    45000  3000000    35000    87000     8000  4450000\n",
      "   100000   423000    56000   299000   450000    42000    98000   115000\n",
      "   325000   720000   157000    51999    60000    41000    65000   103000\n",
      "   250000    10000   138000    45760    44000   106000    88000    14000\n",
      "   188000   105000    61500    91000   300000    48000   130000    34000\n",
      "   118000   120000   138350   110000   130800    19000   412000    40000\n",
      "    55000    43200   190200    80000    37000   235000   400000   270000\n",
      "    67000   140000    68000    50000   170000    75000  1450000   276000\n",
      "  2200000    12000    81000    62000    73000    37456  2250000    82500\n",
      "    38400   225000    90000   200000     8760   151000   700000    24000\n",
      "  7000000  8500000   220000   240000    53000   153000   160000   168000\n",
      "    95000    13400   144000   159500   230000    54000   165000    51400\n",
      "   174000    58000 30400000   420000  1672000    76760    22000     4000\n",
      "    59000    74000   152000    21844    18000   120500   147000     9272\n",
      "  1799997  4000000    52000   195000    32000    69600    21000   435000\n",
      "   185000   180000  2500000    40900   416000  1200000   256000    39600\n",
      "  1600000  1335000    52500    31000   108000   600000  2100000    93000\n",
      "  1250000  4900000    21600    93150   111775    72500   102000    65720\n",
      "   112000    69999   109000   155000   120600   102100    84900   136620\n",
      "    99360   146000   123000    99000   116000   106260   126500   242000\n",
      "    30000   165220   120160    90320   181940   132320   220110   160080\n",
      "   124190   115500   112900   165400   167000   243900   136600   109280\n",
      "   128875    93700   224000   167875   175000   156600   108800    95550\n",
      "   113000   161342   137141   211500   192400    90700    61300   138600\n",
      "   136000   189650   164996   132000   208775   147800   136994   101570\n",
      "  6000000    28500   164000   145000   105400   215300   158200   209100\n",
      "   154600   115934    81666   183600    63900   112300   241000   159000\n",
      "    82900   100800   140400  1400000  2400000   148000   104890   185100\n",
      "   324000   216000   210000    29000    52800    66500    57000   121000\n",
      "   152500   380000   405000   177000    78000   214000   192600   266400\n",
      "   213120   141300   206699    99100   110500    99050   205300   176000\n",
      "   200100    70500   184700   175100   140250   116150    69000   150075\n",
      "    25000   110925   192564   144854   150260   154000   126000   129000]'\n",
      "------------------------------\n",
      "salary_currency's values are ['EUR' 'USD' 'GBP' 'HUF' 'INR' 'JPY' 'CNY' 'MXN' 'CAD' 'DKK' 'PLN' 'SGD'\n",
      " 'CLP' 'BRL' 'TRY' 'AUD' 'CHF']'\n",
      "------------------------------\n",
      "salary_in_usd's values are [ 79833 260000 109024  20000 150000  72000 190000  35735 135000 125000\n",
      "  51321  40481  39916  87000  85000   8000  41689 114047   5707  56000\n",
      "  43331   6072  47899  98000 115000 325000  42000  33511 100000 117104\n",
      "  59303  70000  68428 450000  46759  74130 103000 250000  10000 138000\n",
      "  45760  50180 106000 112872  15966  76958 188000 105000  70139  91000\n",
      "  45896  54742  60000 148261  38776 118000 120000 138350 110000 130800\n",
      "  21669 412000  45618  62726  49268 190200  91237  42197  82528 235000\n",
      "  53192   5409 270000  80000  79197 140000  54238  47282 153667  28476\n",
      "  59102 170000  88654  76833  19609 276000  29751  89294  12000  95746\n",
      "  75000  36259  62000  73000  51519 187442  30428  94564 113476 103160\n",
      "  45391 225000  50000  40189  90000 200000 110037  10354 151000   9466\n",
      "  40570  49646  38400  24000  63711  77364 220000 240000  82500  82744\n",
      "  62649 153000 160000 168000  75774  13400 144000 127221 119059 423000\n",
      " 230000  28369  63831 130026 165000  55000  60757 174000   2859  40038\n",
      "  81000   5679  22611  90734  26005  61896   4000  69741  74000 152000\n",
      "  21844  18000  96113 147000   9272  24342  54094  61467 195000  37825\n",
      "  12901  24823  56738  66022   5882 185000  28609  46597 116914  33808\n",
      "  56256 416000  87738  71786  16228 256000 180000  63810  46809  21637\n",
      " 103691  18053  72212  36643  12103  96282 600000  28399  93000  99703\n",
      " 173762 141846 130000  16904  66265  25532  93150 111775  28016  65013\n",
      "  72500  18907  77684  58000  20171 112000  69999  94665 102839 109000\n",
      "  51064 155000 120600 102100  84900 136620  99360 117789 104702 146000\n",
      " 123000  52351  99000 116000 106260 126500 242000  65438  39263  78526\n",
      " 165220  45807 120160  90320 181940 132320 220110 160080 124190 115500\n",
      " 112900 165400 167000 243900 136600 109280 128875  93700 224000 167875\n",
      " 175000 156600 108800  95550 113000 161342 137141 211500 192400  90700\n",
      "  61300 138600 136000 189650 164996  54957 118187 132000 208775 147800\n",
      " 136994 101570  79039  37300 164000 124333  98158 145000 105400  87932\n",
      " 215300 158200 209100 154600 115934  81666 183600  71982  65949  49461\n",
      "  58894  63900 112300 241000 159000  82900 100800 140400  43966  32974\n",
      "  76940  91614  21983  78791 196979  37236  18442  31615  58255 162674\n",
      " 104890 183228 185100  65000 324000 216000 210000  31875  35590  58035\n",
      "  93427  52396  62651  40000  87425  86703  64849 157000  70912  71444\n",
      "  48000 152500  68147 122346 380000  69336 405000 177000  78000 214000\n",
      " 192600 266400 213120 141300 206699  99100 110500  99050 205300 176000\n",
      " 200100  70500 184700 175100 140250 116150  54000  69000 150075  25000\n",
      " 110925 192564 144854 150260  67000  52000 154000 126000 129000]'\n",
      "------------------------------\n",
      "employee_residence's values are ['DE' 'JP' 'GB' 'HN' 'US' 'HU' 'NZ' 'FR' 'IN' 'PK' 'PL' 'PT' 'CN' 'GR'\n",
      " 'AE' 'NL' 'MX' 'CA' 'AT' 'NG' 'PH' 'ES' 'DK' 'RU' 'IT' 'HR' 'BG' 'SG'\n",
      " 'BR' 'IQ' 'VN' 'BE' 'UA' 'MT' 'CL' 'RO' 'IR' 'CO' 'MD' 'KE' 'SI' 'HK'\n",
      " 'TR' 'RS' 'PR' 'LU' 'JE' 'CZ' 'AR' 'DZ' 'TN' 'MY' 'EE' 'AU' 'BO' 'IE'\n",
      " 'CH']'\n",
      "------------------------------\n",
      "remote_ratio's values are [  0  50 100]'\n",
      "------------------------------\n",
      "company_location's values are ['DE' 'JP' 'GB' 'HN' 'US' 'HU' 'NZ' 'FR' 'IN' 'PK' 'CN' 'GR' 'AE' 'NL'\n",
      " 'MX' 'CA' 'AT' 'NG' 'ES' 'PT' 'DK' 'IT' 'HR' 'LU' 'PL' 'SG' 'RO' 'IQ'\n",
      " 'BR' 'BE' 'UA' 'IL' 'RU' 'MT' 'CL' 'IR' 'CO' 'MD' 'KE' 'SI' 'CH' 'VN'\n",
      " 'AS' 'TR' 'CZ' 'DZ' 'EE' 'MY' 'AU' 'IE']'\n",
      "------------------------------\n",
      "company_size's values are ['L' 'S' 'M']'\n",
      "------------------------------\n"
     ]
    }
   ],
   "source": [
    "for feature in salary.keys():\n",
    "    print(f\"{feature}'s values are {salary[feature].unique()}'\")\n",
    "    print('-'*30)"
   ]
  },
  {
   "cell_type": "code",
   "execution_count": 14,
   "id": "ce465a7c",
   "metadata": {
    "scrolled": true
   },
   "outputs": [
    {
     "data": {
      "text/plain": [
       "(607, 11)"
      ]
     },
     "execution_count": 14,
     "metadata": {},
     "output_type": "execute_result"
    }
   ],
   "source": [
    "salary.shape"
   ]
  },
  {
   "cell_type": "code",
   "execution_count": 16,
   "id": "193784c5",
   "metadata": {
    "scrolled": true
   },
   "outputs": [
    {
     "data": {
      "text/plain": [
       "salary           324000.062603\n",
       "salary_in_usd    112297.869852\n",
       "dtype: float64"
      ]
     },
     "execution_count": 16,
     "metadata": {},
     "output_type": "execute_result"
    }
   ],
   "source": [
    "salary[['salary', 'salary_in_usd']].mean()"
   ]
  },
  {
   "cell_type": "code",
   "execution_count": 17,
   "id": "3d83a247",
   "metadata": {},
   "outputs": [
    {
     "data": {
      "text/html": [
       "<div>\n",
       "<style scoped>\n",
       "    .dataframe tbody tr th:only-of-type {\n",
       "        vertical-align: middle;\n",
       "    }\n",
       "\n",
       "    .dataframe tbody tr th {\n",
       "        vertical-align: top;\n",
       "    }\n",
       "\n",
       "    .dataframe thead th {\n",
       "        text-align: right;\n",
       "    }\n",
       "</style>\n",
       "<table border=\"1\" class=\"dataframe\">\n",
       "  <thead>\n",
       "    <tr style=\"text-align: right;\">\n",
       "      <th></th>\n",
       "      <th>salary</th>\n",
       "      <th>salary_in_usd</th>\n",
       "    </tr>\n",
       "  </thead>\n",
       "  <tbody>\n",
       "    <tr>\n",
       "      <th>count</th>\n",
       "      <td>6.070000e+02</td>\n",
       "      <td>607.000000</td>\n",
       "    </tr>\n",
       "    <tr>\n",
       "      <th>mean</th>\n",
       "      <td>3.240001e+05</td>\n",
       "      <td>112297.869852</td>\n",
       "    </tr>\n",
       "    <tr>\n",
       "      <th>std</th>\n",
       "      <td>1.544357e+06</td>\n",
       "      <td>70957.259411</td>\n",
       "    </tr>\n",
       "    <tr>\n",
       "      <th>min</th>\n",
       "      <td>4.000000e+03</td>\n",
       "      <td>2859.000000</td>\n",
       "    </tr>\n",
       "    <tr>\n",
       "      <th>25%</th>\n",
       "      <td>7.000000e+04</td>\n",
       "      <td>62726.000000</td>\n",
       "    </tr>\n",
       "    <tr>\n",
       "      <th>50%</th>\n",
       "      <td>1.150000e+05</td>\n",
       "      <td>101570.000000</td>\n",
       "    </tr>\n",
       "    <tr>\n",
       "      <th>75%</th>\n",
       "      <td>1.650000e+05</td>\n",
       "      <td>150000.000000</td>\n",
       "    </tr>\n",
       "    <tr>\n",
       "      <th>max</th>\n",
       "      <td>3.040000e+07</td>\n",
       "      <td>600000.000000</td>\n",
       "    </tr>\n",
       "  </tbody>\n",
       "</table>\n",
       "</div>"
      ],
      "text/plain": [
       "             salary  salary_in_usd\n",
       "count  6.070000e+02     607.000000\n",
       "mean   3.240001e+05  112297.869852\n",
       "std    1.544357e+06   70957.259411\n",
       "min    4.000000e+03    2859.000000\n",
       "25%    7.000000e+04   62726.000000\n",
       "50%    1.150000e+05  101570.000000\n",
       "75%    1.650000e+05  150000.000000\n",
       "max    3.040000e+07  600000.000000"
      ]
     },
     "execution_count": 17,
     "metadata": {},
     "output_type": "execute_result"
    }
   ],
   "source": [
    "salary[['salary', 'salary_in_usd']].describe()"
   ]
  },
  {
   "cell_type": "code",
   "execution_count": null,
   "id": "3d4c192e",
   "metadata": {},
   "outputs": [],
   "source": [
    "# 비교를 위해 salary in usd를 사용해야겠다"
   ]
  },
  {
   "cell_type": "code",
   "execution_count": 18,
   "id": "901a25e2",
   "metadata": {
    "scrolled": false
   },
   "outputs": [
    {
     "data": {
      "text/plain": [
       "Index(['work_year', 'experience_level', 'employment_type', 'job_title',\n",
       "       'salary', 'salary_currency', 'salary_in_usd', 'employee_residence',\n",
       "       'remote_ratio', 'company_location', 'company_size'],\n",
       "      dtype='object')"
      ]
     },
     "execution_count": 18,
     "metadata": {},
     "output_type": "execute_result"
    }
   ],
   "source": [
    "salary.keys()"
   ]
  },
  {
   "cell_type": "code",
   "execution_count": 20,
   "id": "a9de8f7e",
   "metadata": {},
   "outputs": [
    {
     "data": {
      "image/png": "[encoded data removed]",
      "text/plain": [
       "<Figure size 360x360 with 1 Axes>"
      ]
     },
     "metadata": {
      "needs_background": "light"
     },
     "output_type": "display_data"
    }
   ],
   "source": [
    "import seaborn as sns\n",
    "import matplotlib.pyplot as plt\n",
    "\n",
    "sns.catplot(x='work_year', y='salary_in_usd', data=salary, kind='point')\n",
    "plt.show()"
   ]
  },
  {
   "cell_type": "code",
   "execution_count": 21,
   "id": "c6c8630d",
   "metadata": {},
   "outputs": [
    {
     "data": {
      "image/png": "[encoded data removed]",
      "text/plain": [
       "<Figure size 360x360 with 1 Axes>"
      ]
     },
     "metadata": {
      "needs_background": "light"
     },
     "output_type": "display_data"
    }
   ],
   "source": [
    "sns.catplot(x='work_year', y='salary_in_usd', data=salary, kind='box')\n",
    "plt.show()"
   ]
  },
  {
   "cell_type": "markdown",
   "id": "b94ab0e8",
   "metadata": {},
   "source": [
    "- 매년 평균 급여가 올라갔으나, 2022년에 많이 오름\n",
    "- Q1은 2020년에 비해 2022년엔 미세하게, 2022년에는 크게 증가함\n",
    "- upper whisker는 2020년에 비해 2021년에 눈의 띄게 높아졌으며, 2022년과는 크게 다르지 않음"
   ]
  },
  {
   "cell_type": "code",
   "execution_count": 35,
   "id": "78795211",
   "metadata": {},
   "outputs": [],
   "source": [
    "ctg_features_year=['experience_level', 'employment_type', 'remote_ratio', 'company_size']"
   ]
  },
  {
   "cell_type": "code",
   "execution_count": 38,
   "id": "87a62384",
   "metadata": {
    "scrolled": false
   },
   "outputs": [
    {
     "data": {
      "image/png": "[encoded data removed]",
      "text/plain": [
       "<Figure size 720x720 with 4 Axes>"
      ]
     },
     "metadata": {
      "needs_background": "light"
     },
     "output_type": "display_data"
    }
   ],
   "source": [
    "grid = gridspec.GridSpec(2,2) \n",
    "plt.figure(figsize=(10,10))\n",
    "plt.subplots_adjust(wspace=0.5, hspace=0.3) \n",
    "\n",
    "for idx, feature in enumerate(ctg_features_year):\n",
    "    ax=plt.subplot(grid[idx])\n",
    "    sns.countplot(x='work_year', hue=feature, data=salary, ax=ax)\n",
    "    plt.legend()\n",
    "    plt.title(f\"{feature}\")"
   ]
  },
  {
   "cell_type": "code",
   "execution_count": 48,
   "id": "9e0abadb",
   "metadata": {},
   "outputs": [
    {
     "data": {
      "text/plain": [
       "2020     72\n",
       "2021    217\n",
       "2022    318\n",
       "Name: work_year, dtype: int64"
      ]
     },
     "execution_count": 48,
     "metadata": {},
     "output_type": "execute_result"
    }
   ],
   "source": [
    "salary['work_year'].value_counts(ascending=True)"
   ]
  },
  {
   "cell_type": "code",
   "execution_count": 47,
   "id": "b7cdd471",
   "metadata": {},
   "outputs": [
    {
     "data": {
      "text/html": [
       "<div>\n",
       "<style scoped>\n",
       "    .dataframe tbody tr th:only-of-type {\n",
       "        vertical-align: middle;\n",
       "    }\n",
       "\n",
       "    .dataframe tbody tr th {\n",
       "        vertical-align: top;\n",
       "    }\n",
       "\n",
       "    .dataframe thead th {\n",
       "        text-align: right;\n",
       "    }\n",
       "</style>\n",
       "<table border=\"1\" class=\"dataframe\">\n",
       "  <thead>\n",
       "    <tr style=\"text-align: right;\">\n",
       "      <th></th>\n",
       "      <th>employment_type</th>\n",
       "    </tr>\n",
       "    <tr>\n",
       "      <th>work_year</th>\n",
       "      <th></th>\n",
       "    </tr>\n",
       "  </thead>\n",
       "  <tbody>\n",
       "    <tr>\n",
       "      <th>2020</th>\n",
       "      <td>68</td>\n",
       "    </tr>\n",
       "    <tr>\n",
       "      <th>2021</th>\n",
       "      <td>206</td>\n",
       "    </tr>\n",
       "    <tr>\n",
       "      <th>2022</th>\n",
       "      <td>314</td>\n",
       "    </tr>\n",
       "  </tbody>\n",
       "</table>\n",
       "</div>"
      ],
      "text/plain": [
       "           employment_type\n",
       "work_year                 \n",
       "2020                    68\n",
       "2021                   206\n",
       "2022                   314"
      ]
     },
     "execution_count": 47,
     "metadata": {},
     "output_type": "execute_result"
    }
   ],
   "source": [
    "salary[salary['employment_type']=='FT'].groupby(['work_year']).agg({'employment_type': 'count'})"
   ]
  },
  {
   "cell_type": "code",
   "execution_count": 50,
   "id": "0c4d043d",
   "metadata": {},
   "outputs": [
    {
     "name": "stdout",
     "output_type": "stream",
     "text": [
      "2020: 0.9444444444444444\n",
      "2021: 0.9493087557603687\n",
      "2020: 0.9874213836477987\n"
     ]
    }
   ],
   "source": [
    "print(f\"2020: {68/72}\")\n",
    "print(f\"2021: {206/217}\")\n",
    "print(f\"2020: {314/318}\")"
   ]
  },
  {
   "cell_type": "markdown",
   "id": "4eaa4dea",
   "metadata": {},
   "source": [
    "#### experience_level\n",
    "- senior가 2022년에 폭등함, 전체에서 차지하는 비중도 2-3위이다가 2022년에 가장 높은 비율 차지\n",
    "- entry는 2021년에 잠시 오르고 2022년에 감소하여 2020년과 비슷함\n",
    "\n",
    "#### employment_type\n",
    "- 대부분 full-time\n",
    "- 계산 결과 full-time 비율이 모두 약 0.95의 높은 비율이기 때문에 매년 full-time이 늘어난다고 보기는 어려울듯\n",
    "\n",
    "#### remote_ratio\n",
    "- 순위는 2020년과 2021년은 동일하나 2022년에는 부분적인 원격 업무 비중이 매우 줄어들음\n",
    "- COVID19에 적응하면서 부분적 원격 업무를 중단하고 0 또는 100으로 가는듯\n",
    "- 특히 100 원격 업무의 비중이 늘어남\n",
    "\n",
    "#### company_size\n",
    "- small size와 big size는 2021년에만 잠시 늘어나고 다시 원상복구\n",
    "- medium size 회사가 2022년에 매우 많아짐"
   ]
  },
  {
   "cell_type": "code",
   "execution_count": 36,
   "id": "a9b9fc2a",
   "metadata": {
    "scrolled": false
   },
   "outputs": [
    {
     "data": {
      "image/png": "[encoded data removed]",
      "text/plain": [
       "<Figure size 720x720 with 4 Axes>"
      ]
     },
     "metadata": {
      "needs_background": "light"
     },
     "output_type": "display_data"
    }
   ],
   "source": [
    "import matplotlib.gridspec as gridspec\n",
    "grid = gridspec.GridSpec(2,2) \n",
    "plt.figure(figsize=(10,10))\n",
    "plt.subplots_adjust(wspace=0.5, hspace=0.3) \n",
    "\n",
    "for idx, feature in enumerate(ctg_features_year):\n",
    "    ax=plt.subplot(grid[idx])\n",
    "    sns.countplot(x=feature, hue='work_year', data=salary, ax=ax)\n",
    "    plt.legend()"
   ]
  },
  {
   "cell_type": "code",
   "execution_count": 29,
   "id": "0389573e",
   "metadata": {},
   "outputs": [
    {
     "data": {
      "text/plain": [
       "5"
      ]
     },
     "execution_count": 29,
     "metadata": {},
     "output_type": "execute_result"
    }
   ],
   "source": [
    "ctg_features=['work_year', 'experience_level', 'employment_type', 'remote_ratio', 'company_size']\n",
    "len(ctg_features)"
   ]
  },
  {
   "cell_type": "code",
   "execution_count": 33,
   "id": "1f32cfc7",
   "metadata": {},
   "outputs": [
    {
     "data": {
      "image/png": "[encoded data removed]",
      "text/plain": [
       "<Figure size 720x720 with 5 Axes>"
      ]
     },
     "metadata": {
      "needs_background": "light"
     },
     "output_type": "display_data"
    }
   ],
   "source": [
    "grid = gridspec.GridSpec(3,2) \n",
    "plt.figure(figsize=(10,10))\n",
    "plt.subplots_adjust(wspace=0.5, hspace=0.3) \n",
    "\n",
    "for idx, feature in enumerate(ctg_features):\n",
    "    salary_a=salary.groupby(feature)['salary_in_usd'].mean()\n",
    "    salary_a.plot(kind='bar', ax=plt.subplot(grid[idx]))\n",
    "    plt.xticks(rotation=0)"
   ]
  },
  {
   "cell_type": "code",
   "execution_count": null,
   "id": "f1f3b64c",
   "metadata": {},
   "outputs": [],
   "source": [
    "# 직무 이름 top 10 뽑아보기"
   ]
  },
  {
   "cell_type": "code",
   "execution_count": null,
   "id": "b301e66d",
   "metadata": {},
   "outputs": [],
   "source": []
  },
  {
   "cell_type": "code",
   "execution_count": null,
   "id": "19e9725f",
   "metadata": {},
   "outputs": [],
   "source": []
  },
  {
   "cell_type": "code",
   "execution_count": null,
   "id": "0a6a0519",
   "metadata": {},
   "outputs": [],
   "source": []
  },
  {
   "cell_type": "code",
   "execution_count": null,
   "id": "8876b8a6",
   "metadata": {},
   "outputs": [],
   "source": []
  },
  {
   "cell_type": "code",
   "execution_count": null,
   "id": "3d268bac",
   "metadata": {},
   "outputs": [],
   "source": []
  },
  {
   "cell_type": "code",
   "execution_count": null,
   "id": "1a099e2a",
   "metadata": {},
   "outputs": [],
   "source": []
  },
  {
   "cell_type": "code",
   "execution_count": null,
   "id": "21a0be38",
   "metadata": {},
   "outputs": [],
   "source": []
  },
  {
   "cell_type": "code",
   "execution_count": null,
   "id": "7886e5fa",
   "metadata": {},
   "outputs": [],
   "source": []
  },
  {
   "cell_type": "code",
   "execution_count": null,
   "id": "4b3ed609",
   "metadata": {},
   "outputs": [],
   "source": []
  },
  {
   "cell_type": "code",
   "execution_count": null,
   "id": "7d4c1697",
   "metadata": {},
   "outputs": [],
   "source": []
  },
  {
   "cell_type": "code",
   "execution_count": null,
   "id": "2a5b8a8b",
   "metadata": {},
   "outputs": [],
   "source": []
  },
  {
   "cell_type": "code",
   "execution_count": null,
   "id": "5e32ca43",
   "metadata": {},
   "outputs": [],
   "source": []
  },
  {
   "cell_type": "code",
   "execution_count": null,
   "id": "faa4a401",
   "metadata": {},
   "outputs": [],
   "source": []
  },
  {
   "cell_type": "code",
   "execution_count": null,
   "id": "147254ab",
   "metadata": {},
   "outputs": [],
   "source": []
  },
  {
   "cell_type": "code",
   "execution_count": null,
   "id": "c21e5849",
   "metadata": {},
   "outputs": [],
   "source": []
  }
 ],
 "metadata": {
  "kernelspec": {
   "display_name": "Python 3 (ipykernel)",
   "language": "python",
   "name": "python3"
  },
  "language_info": {
   "codemirror_mode": {
    "name": "ipython",
    "version": 3
   },
   "file_extension": ".py",
   "mimetype": "text/x-python",
   "name": "python",
   "nbconvert_exporter": "python",
   "pygments_lexer": "ipython3",
   "version": "3.8.13"
  }
 },
 "nbformat": 4,
 "nbformat_minor": 5
}
